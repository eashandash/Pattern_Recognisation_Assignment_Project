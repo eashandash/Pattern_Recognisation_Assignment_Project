{
 "cells": [
  {
   "cell_type": "code",
   "execution_count": 1,
   "metadata": {
    "collapsed": true
   },
   "outputs": [],
   "source": [
    "import math\n",
    "import numpy as np\n",
    "import matplotlib as mpl\n",
    "import matplotlib.pyplot as plt"
   ]
  },
  {
   "cell_type": "code",
   "execution_count": 2,
   "metadata": {
    "collapsed": true
   },
   "outputs": [],
   "source": [
    "w1 = [[0, 0, 2, 3, 3, 3], [0, 1, 2, 1, 2, 3]]\n",
    "w2 = [[6, 8, 9, 9, 9, 8], [9, 9, 8, 9,10,11]]\n",
    "z = [[0, 0, 0, 0, 0, 0], [0, 0, 0, 0, 0, 0]]\n",
    "sigma1 = [[0.0, 0.0], [0.0, 0.0]]\n",
    "sigma2 = [[0.0, 0.0], [0.0, 0.0]]\n",
    "g1 = [0, 0, 0, 0, 0, 0]\n",
    "g2 = [0, 0, 0, 0, 0, 0]"
   ]
  },
  {
   "cell_type": "code",
   "execution_count": 3,
   "metadata": {},
   "outputs": [
    {
     "name": "stdout",
     "output_type": "stream",
     "text": [
      "Bit 1\n",
      "P(w1) = 0.5\n",
      "P(w2) = 0.5\n"
     ]
    }
   ],
   "source": [
    "print(\"Bit 1\")\n",
    "p1 = float(1.0*len(w1[0])/(len(w1[0])+len(w2[0])))\n",
    "p2 = float(1.0-p1)\n",
    "print(\"P(w1) =\", p1)\n",
    "print(\"P(w2) =\", p2)"
   ]
  },
  {
   "cell_type": "code",
   "execution_count": 4,
   "metadata": {},
   "outputs": [
    {
     "name": "stdout",
     "output_type": "stream",
     "text": [
      "Bit 2\n",
      "Mean Matrix mu1 =\n",
      " [[ 1.83333333]\n",
      " [ 1.5       ]]\n",
      "Mean Matrix mu2 =\n",
      " [[ 8.16666667]\n",
      " [ 9.33333333]]\n"
     ]
    }
   ],
   "source": [
    "print(\"Bit 2\")\n",
    "mu1 = [[0],[0]]\n",
    "mu2 = [[0],[0]]\n",
    "for i in range(0,len(w1[0])):\n",
    "    mu1[0][0] = mu1[0][0] + w1[0][i]\n",
    "    mu1[1][0] = mu1[1][0] + w1[1][i]\n",
    "    mu2[0][0] = mu2[0][0] + w2[0][i]\n",
    "    mu2[1][0] = mu2[1][0] + w2[1][i]\n",
    "mu1[0][0] = float(1.0*mu1[0][0]/len(w1[0]))\n",
    "mu1[1][0] = float(1.0*mu1[1][0]/len(w1[1]))\n",
    "mu2[0][0] = float(1.0*mu2[0][0]/len(w2[0]))\n",
    "mu2[1][0] = float(1.0*mu2[1][0]/len(w2[1]))\n",
    "mu1 = np.array(mu1)\n",
    "mu2 = np.array(mu2)\n",
    "print(\"Mean Matrix mu1 =\\n\",mu1)\n",
    "print(\"Mean Matrix mu2 =\\n\",mu2)"
   ]
  },
  {
   "cell_type": "code",
   "execution_count": 5,
   "metadata": {},
   "outputs": [
    {
     "name": "stdout",
     "output_type": "stream",
     "text": [
      "\n",
      "Covariance matrix of class 1:\n",
      "[[ 1.80555556  0.91666667]\n",
      " [ 0.91666667  0.91666667]]\n"
     ]
    }
   ],
   "source": [
    "print(\"\\nCovariance matrix of class 1:\")\n",
    "for i in range(0,6):\n",
    "    z[0][i] = float(w1[0][i] - mu1[0][0])\n",
    "    z[1][i] = float(w1[1][i] - mu1[1][0])\n",
    "z = np.array(z)\n",
    "zt = np.transpose(z)\n",
    "sigma1 = np.matmul(z, zt)\n",
    "sigma1 = sigma1/6\n",
    "print(sigma1)"
   ]
  },
  {
   "cell_type": "code",
   "execution_count": 6,
   "metadata": {},
   "outputs": [
    {
     "name": "stdout",
     "output_type": "stream",
     "text": [
      "\n",
      "Covariance matrix of class 2:\n",
      "[[ 1.13888889 -0.05555556]\n",
      " [-0.05555556  0.88888889]]\n"
     ]
    }
   ],
   "source": [
    "print(\"\\nCovariance matrix of class 2:\")\n",
    "for i in range(0,6):\n",
    "    z[0][i] = float(w2[0][i] - mu2[0][0])\n",
    "    z[1][i] = float(w2[1][i] - mu2[1][0])\n",
    "z = np.array(z)\n",
    "zt = np.transpose(z)\n",
    "sigma2 = np.matmul(z, zt)\n",
    "sigma2 = sigma2/6\n",
    "print(sigma2)"
   ]
  },
  {
   "cell_type": "code",
   "execution_count": 7,
   "metadata": {},
   "outputs": [
    {
     "name": "stdout",
     "output_type": "stream",
     "text": [
      "\n",
      "Bit 3:\n",
      "\n",
      "\n",
      "\n",
      "g1(x) = -0.5625 x1^2 + 1.125 x1x2 + -1.10795454545 x2^2 + 0.375 x1 + 1.26136363636 x2 + -1.88052270151\n",
      "\n",
      "\n",
      "\n"
     ]
    }
   ],
   "source": [
    "print(\"\\nBit 3:\")\n",
    "\n",
    "sigmai1 = np.linalg.inv(sigma1)\n",
    "sigmai2 = np.linalg.inv(sigma2)\n",
    "\n",
    "Ai = -sigmai1/2\n",
    "Bi = np.transpose(np.matmul(sigmai1, mu1))\n",
    "g1[0] = Ai[0][0]\n",
    "g1[1] = Ai[1][0] + Ai[0][1]\n",
    "g1[2] = Ai[1][1]\n",
    "g1[3] = Bi[0][0]\n",
    "g1[4] = Bi[0][1]\n",
    "const = -np.matmul(np.matmul(np.transpose(mu1), sigmai1), mu1)/2\n",
    "const = const - math.log(np.linalg.det(sigma1))/2\n",
    "const = const + math.log(p1)\n",
    "g1[5] = const[0][0]\n",
    "print(\"\\n\\n\")\n",
    "print(\"g1(x) =\", g1[0], \"x1^2 +\", g1[1], \"x1x2 +\", g1[2], \"x2^2 +\", g1[3], \"x1 +\", g1[4], \"x2 +\", g1[5])\n",
    "print(\"\\n\\n\")"
   ]
  },
  {
   "cell_type": "code",
   "execution_count": 8,
   "metadata": {},
   "outputs": [
    {
     "name": "stdout",
     "output_type": "stream",
     "text": [
      "g2(x) = -0.440366972477 x1^2 + -0.0550458715596 x1x2 + -0.564220183486 x2^2 + 7.70642201835 x1 + 10.9816513761 x2 + -83.4133518384\n"
     ]
    }
   ],
   "source": [
    "Ai = -sigmai2/2\n",
    "Bi = np.transpose(np.matmul(sigmai2, mu2))\n",
    "g2[0] = Ai[0][0]\n",
    "g2[1] = Ai[1][0] + Ai[0][1]\n",
    "g2[2] = Ai[1][1]\n",
    "g2[3] = Bi[0][0]\n",
    "g2[4] = Bi[0][1]\n",
    "const = -np.matmul(np.matmul(np.transpose(mu2), sigmai2), mu2)/2\n",
    "const = const - math.log(np.linalg.det(sigma2))/2\n",
    "const = const + math.log(p2)\n",
    "g2[5] = const[0][0]\n",
    "print(\"g2(x) =\", g2[0], \"x1^2 +\", g2[1], \"x1x2 +\", g2[2], \"x2^2 +\", g2[3], \"x1 +\", g2[4], \"x2 +\", g2[5])"
   ]
  },
  {
   "cell_type": "code",
   "execution_count": 9,
   "metadata": {},
   "outputs": [
    {
     "name": "stdout",
     "output_type": "stream",
     "text": [
      "\n",
      "\n",
      "\n",
      "Boundary equation is:\n",
      "-0.122133027523 x1^2 + 1.18004587156 x1x2 + -0.543734361968 x2^2 + -7.33142201835 x1 + -9.72028773978 x2 + 81.5328291369 = 0\n"
     ]
    }
   ],
   "source": [
    "print(\"\\n\\n\")\n",
    "print(\"Boundary equation is:\")\n",
    "g3 = np.subtract(g1, g2)\n",
    "print(g3[0], \"x1^2 +\", g3[1], \"x1x2 +\", g3[2], \"x2^2 +\", g3[3], \"x1 +\", g3[4], \"x2 +\", g3[5], \"= 0\")"
   ]
  },
  {
   "cell_type": "code",
   "execution_count": 10,
   "metadata": {
    "collapsed": true
   },
   "outputs": [],
   "source": [
    "mpl.rcParams['lines.color'] = 'k'\n",
    "mpl.rcParams['axes.prop_cycle'] = mpl.cycler('color', ['k'])\n",
    "x = np.linspace(-90, 90, 400)\n",
    "y = np.linspace(-50, 50, 400)\n",
    "x, y = np.meshgrid(x, y)"
   ]
  },
  {
   "cell_type": "code",
   "execution_count": 11,
   "metadata": {
    "collapsed": true
   },
   "outputs": [],
   "source": [
    "def axes():\n",
    "    plt.axhline(0, alpha=.1)\n",
    "    plt.axvline(0, alpha=.1)"
   ]
  },
  {
   "cell_type": "code",
   "execution_count": 12,
   "metadata": {},
   "outputs": [
    {
     "data": {
      "image/png": "[encoded data removed]",
      "text/plain": [
       "<matplotlib.figure.Figure at 0x15c0510afd0>"
      ]
     },
     "metadata": {},
     "output_type": "display_data"
    }
   ],
   "source": [
    "axes()\n",
    "plt.contour(x, y,(g3[0]*x**2 + g3[1]*x*y + g3[2]*y**2 + g3[3]*x + g3[4]*y + g3[5]), [0], colors='k')\n",
    "plt.show()"
   ]
  },
  {
   "cell_type": "code",
   "execution_count": null,
   "metadata": {
    "collapsed": true
   },
   "outputs": [],
   "source": []
  }
 ],
 "metadata": {
  "kernelspec": {
   "display_name": "Python 3",
   "language": "python",
   "name": "python3"
  },
  "language_info": {
   "codemirror_mode": {
    "name": "ipython",
    "version": 3
   },
   "file_extension": ".py",
   "mimetype": "text/x-python",
   "name": "python",
   "nbconvert_exporter": "python",
   "pygments_lexer": "ipython3",
   "version": "3.6.1"
  }
 },
 "nbformat": 4,
 "nbformat_minor": 2
}
