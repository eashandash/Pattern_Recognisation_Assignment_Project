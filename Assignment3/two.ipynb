{
 "cells": [
  {
   "cell_type": "code",
   "execution_count": 1,
   "metadata": {
    "collapsed": true
   },
   "outputs": [],
   "source": [
    "import math\n",
    "import numpy as np\n",
    "import matplotlib as mpl\n",
    "import matplotlib.pyplot as plt"
   ]
  },
  {
   "cell_type": "code",
   "execution_count": 2,
   "metadata": {},
   "outputs": [
    {
     "name": "stdout",
     "output_type": "stream",
     "text": [
      "bit a:\n"
     ]
    }
   ],
   "source": [
    "wi = [0, 0]\n",
    "g1 = [0, 0, 0]\n",
    "g2 = [0, 0, 0]\n",
    "g3 = [0, 0, 0]\n",
    "mu1 = [[0], [2]]\n",
    "mu2 = [[3], [1]]\n",
    "mu3 = [[1], [0]]\n",
    "sigma = [[1.0, 0.0], [0.0, 1.0/3]]\n",
    "print(\"bit a:\")"
   ]
  },
  {
   "cell_type": "code",
   "execution_count": 3,
   "metadata": {
    "collapsed": true
   },
   "outputs": [],
   "source": [
    "sigmai = np.linalg.inv(sigma)"
   ]
  },
  {
   "cell_type": "code",
   "execution_count": 4,
   "metadata": {},
   "outputs": [
    {
     "name": "stdout",
     "output_type": "stream",
     "text": [
      "The equations are:\n",
      "g1(x) = 0.0 x1 + 6.0 x2 + -6.0\n"
     ]
    }
   ],
   "source": [
    "print(\"The equations are:\")\n",
    "w1 = np.matmul(sigmai, mu1)\n",
    "wi10 = -np.matmul(np.matmul(np.transpose(mu1),sigmai),mu1)/2\n",
    "g1[0] = w1[0][0]\n",
    "g1[1] = w1[1][0]\n",
    "g1[2] = wi10[0][0]\n",
    "print(\"g1(x) =\", g1[0], \"x1 +\", g1[1], \"x2 +\", g1[2])"
   ]
  },
  {
   "cell_type": "code",
   "execution_count": 5,
   "metadata": {},
   "outputs": [
    {
     "name": "stdout",
     "output_type": "stream",
     "text": [
      "g1(x) = 3.0 x1 + 3.0 x2 + -6.0\n"
     ]
    }
   ],
   "source": [
    "w2 = np.matmul(sigmai, mu2)\n",
    "wi20 = -np.matmul(np.matmul(np.transpose(mu2),sigmai),mu2)/2\n",
    "g2[0] = w2[0][0]\n",
    "g2[1] = w2[1][0]\n",
    "g2[2] = wi20[0][0]\n",
    "print(\"g1(x) =\", g2[0], \"x1 +\", g2[1], \"x2 +\", g2[2])"
   ]
  },
  {
   "cell_type": "code",
   "execution_count": 6,
   "metadata": {},
   "outputs": [
    {
     "name": "stdout",
     "output_type": "stream",
     "text": [
      "g1(x) = 1.0 x1 + 0.0 x2 + -0.5\n"
     ]
    }
   ],
   "source": [
    "w3 = np.matmul(sigmai, mu3)\n",
    "wi30 = -np.matmul(np.matmul(np.transpose(mu3),sigmai),mu3)/2\n",
    "g3[0] = w3[0][0]\n",
    "g3[1] = w3[1][0]\n",
    "g3[2] = wi30[0][0]\n",
    "print(\"g1(x) =\", g3[0], \"x1 +\", g3[1], \"x2 +\", g3[2])"
   ]
  },
  {
   "cell_type": "code",
   "execution_count": 7,
   "metadata": {
    "collapsed": true
   },
   "outputs": [],
   "source": [
    "g4 = np.subtract(g1, g2)\n",
    "g5 = np.subtract(g2, g3)\n",
    "g6 = np.subtract(g3, g1)"
   ]
  },
  {
   "cell_type": "code",
   "execution_count": 8,
   "metadata": {
    "collapsed": true
   },
   "outputs": [],
   "source": [
    "mpl.rcParams['lines.color'] = 'k'\n",
    "mpl.rcParams['axes.prop_cycle'] = mpl.cycler('color', ['k'])\n",
    "x = np.linspace(-90, 90, 400)\n",
    "y = np.linspace(-50, 50, 400)\n",
    "x, y = np.meshgrid(x, y)"
   ]
  },
  {
   "cell_type": "code",
   "execution_count": 9,
   "metadata": {
    "collapsed": true
   },
   "outputs": [],
   "source": [
    "def axes():\n",
    "    plt.axhline(0, alpha=.1)\n",
    "    plt.axvline(0, alpha=.1)"
   ]
  },
  {
   "cell_type": "code",
   "execution_count": 10,
   "metadata": {},
   "outputs": [
    {
     "data": {
      "image/png": "[encoded data removed]",
      "text/plain": [
       "<matplotlib.figure.Figure at 0x20713d980b8>"
      ]
     },
     "metadata": {},
     "output_type": "display_data"
    }
   ],
   "source": [
    "axes()\n",
    "plt.contour(x, y,(g4[0]*x + g4[1]*y + g4[2]), [0], colors='k')\n",
    "plt.contour(x, y,(g5[0]*x + g5[1]*y + g5[2]), [0], colors='k')\n",
    "plt.contour(x, y,(g6[0]*x + g6[1]*y + g6[2]), [0], colors='k')\n",
    "plt.show()"
   ]
  },
  {
   "cell_type": "code",
   "execution_count": null,
   "metadata": {
    "collapsed": true
   },
   "outputs": [],
   "source": []
  },
  {
   "cell_type": "code",
   "execution_count": null,
   "metadata": {
    "collapsed": true
   },
   "outputs": [],
   "source": []
  }
 ],
 "metadata": {
  "kernelspec": {
   "display_name": "Python 3",
   "language": "python",
   "name": "python3"
  },
  "language_info": {
   "codemirror_mode": {
    "name": "ipython",
    "version": 3
   },
   "file_extension": ".py",
   "mimetype": "text/x-python",
   "name": "python",
   "nbconvert_exporter": "python",
   "pygments_lexer": "ipython3",
   "version": "3.6.1"
  }
 },
 "nbformat": 4,
 "nbformat_minor": 2
}
