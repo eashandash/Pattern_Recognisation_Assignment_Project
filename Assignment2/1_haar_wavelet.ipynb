{
 "cells": [
  {
   "cell_type": "code",
   "execution_count": 2,
   "metadata": {},
   "outputs": [
    {
     "name": "stdout",
     "output_type": "stream",
     "text": [
      "[10, 50, 60, 150, 20, 60, 40, 30, 50, 90, 70, 82, 74, 66, 12, 58]\n",
      "\n",
      "\n",
      "[922, -82, 120, 82, -150, 10, -12, 70, -40, -90, -40, 10, -40, -12, 8, -46]\n"
     ]
    }
   ],
   "source": [
    "import math\n",
    "\n",
    "res =[10 ,50, 60, 150,\n",
    "    20 ,60, 40, 30,\n",
    "    50, 90, 70, 82,\n",
    "    74 ,66, 12, 58]\n",
    "print(res)\n",
    "    \n",
    "print('\\n')\n",
    "def discreteHaarWaveletTransform(x):\n",
    "    N = len(x)\n",
    "    output = [0.0]*N\n",
    "\n",
    "    length = N >> 1\n",
    "    while True:\n",
    "        for i in range(0,length):\n",
    "            summ = x[i * 2] + x[i * 2 + 1]\n",
    "            difference = x[i * 2] - x[i * 2 + 1]\n",
    "            output[i] = summ\n",
    "            output[length + i] = difference\n",
    "\n",
    "        if length == 1:\n",
    "            return output\n",
    "\n",
    "        #Swap arrays to do next iteration\n",
    "        #System.arraycopy(output, 0, x, 0, length << 1)\n",
    "        x = output[:length << 1]\n",
    "        length >>= 1\n",
    "\n",
    "\n",
    "res = discreteHaarWaveletTransform(res)\n",
    "\n",
    "print(res)"
   ]
  },
  {
   "cell_type": "code",
   "execution_count": null,
   "metadata": {},
   "outputs": [],
   "source": []
  }
 ],
 "metadata": {
  "kernelspec": {
   "display_name": "Python 3",
   "language": "python",
   "name": "python3"
  },
  "language_info": {
   "codemirror_mode": {
    "name": "ipython",
    "version": 3
   },
   "file_extension": ".py",
   "mimetype": "text/x-python",
   "name": "python",
   "nbconvert_exporter": "python",
   "pygments_lexer": "ipython3",
   "version": "3.6.4"
  }
 },
 "nbformat": 4,
 "nbformat_minor": 2
}
