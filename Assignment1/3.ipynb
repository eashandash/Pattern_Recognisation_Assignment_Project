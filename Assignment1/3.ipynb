{
 "cells": [
  {
   "cell_type": "code",
   "execution_count": 182,
   "metadata": {},
   "outputs": [],
   "source": [
    "import cv2 as cv\n",
    "import numpy as np\n",
    "from matplotlib import pyplot as plt\n",
    "img = cv.imread('leaf.png',0)\n",
    "ret,thresh1 = cv.threshold(img,232,255,cv.THRESH_BINARY)"
   ]
  },
  {
   "cell_type": "code",
   "execution_count": 183,
   "metadata": {
    "collapsed": true
   },
   "outputs": [],
   "source": [
    "%matplotlib inline"
   ]
  },
  {
   "cell_type": "code",
   "execution_count": 199,
   "metadata": {},
   "outputs": [
    {
     "data": {
      "text/plain": [
       "<matplotlib.image.AxesImage at 0x1bc5843a550>"
      ]
     },
     "execution_count": 199,
     "metadata": {},
     "output_type": "execute_result"
    },
    {
     "data": {
      "image/png": "[encoded data removed]",
      "text/plain": [
       "<matplotlib.figure.Figure at 0x1bc583f5748>"
      ]
     },
     "metadata": {},
     "output_type": "display_data"
    }
   ],
   "source": [
    "plt.imshow(thresh1,'gray')"
   ]
  },
  {
   "cell_type": "code",
   "execution_count": 202,
   "metadata": {},
   "outputs": [
    {
     "data": {
      "text/plain": [
       "(240, 320)"
      ]
     },
     "execution_count": 202,
     "metadata": {},
     "output_type": "execute_result"
    }
   ],
   "source": [
    "thresh1.shape"
   ]
  },
  {
   "cell_type": "code",
   "execution_count": 204,
   "metadata": {},
   "outputs": [
    {
     "data": {
      "image/png": "[encoded data removed]",
      "text/plain": [
       "<matplotlib.figure.Figure at 0x1bc56522080>"
      ]
     },
     "metadata": {},
     "output_type": "display_data"
    }
   ],
   "source": [
    "import cv2\n",
    "import numpy as np\n",
    "from matplotlib import pyplot as plt\n",
    "\n",
    "img = cv2.imread('leaf.png',0)\n",
    "edges = cv2.Canny(thresh1,100,200)\n",
    "\n",
    "plt.subplot(121),plt.imshow(img,cmap = 'gray')\n",
    "plt.title('Original Image'), plt.xticks([]), plt.yticks([])\n",
    "plt.subplot(122),plt.imshow(edges,cmap = 'gray')\n",
    "plt.title('Edge Image'), plt.xticks([]), plt.yticks([])\n",
    "\n",
    "plt.show()"
   ]
  },
  {
   "cell_type": "code",
   "execution_count": 187,
   "metadata": {},
   "outputs": [
    {
     "name": "stdout",
     "output_type": "stream",
     "text": [
      "(41, 174) 255\n"
     ]
    }
   ],
   "source": [
    "## Discover the first point \n",
    "for i, row in enumerate(edges):\n",
    "    for j, value in enumerate(row):\n",
    "        if value == 255:\n",
    "            start_point = (i, j)\n",
    "            print(start_point, value)\n",
    "            break\n",
    "    else:\n",
    "        continue\n",
    "    break"
   ]
  },
  {
   "cell_type": "code",
   "execution_count": 188,
   "metadata": {},
   "outputs": [],
   "source": [
    "directions = [ 0,  1,  2,\n",
    "               7,      3,\n",
    "               6,  5,  4]\n",
    "dir2idx = dict(zip(directions, range(len(directions))))\n",
    "\n",
    "change_j =   [-1,  0,  1, # x or columns\n",
    "              -1,      1,\n",
    "              -1,  0,  1]\n",
    "\n",
    "change_i =   [-1, -1, -1, # y or rows\n",
    "               0,      0,\n",
    "               1,  1,  1]\n",
    "\n",
    "border = []\n",
    "chain = []\n",
    "curr_point = start_point\n",
    "for direction in directions:\n",
    "    idx = dir2idx[direction]\n",
    "    new_point = (start_point[0]+change_i[idx], start_point[1]+change_j[idx])\n",
    "    if edges[new_point] != 0: # if is ROI\n",
    "        border.append(new_point)\n",
    "        chain.append(direction)\n",
    "        curr_point = new_point\n",
    "        break\n",
    "\n",
    "count = 0\n",
    "while curr_point != start_point:\n",
    "    #figure direction to start search\n",
    "    b_direction = (direction + 5) % 8 \n",
    "    dirs_1 = range(b_direction, 8)\n",
    "    dirs_2 = range(0, b_direction)\n",
    "    dirs = []\n",
    "    dirs.extend(dirs_1)\n",
    "    dirs.extend(dirs_2)\n",
    "    for direction in dirs:\n",
    "        idx = dir2idx[direction]\n",
    "        new_point = (curr_point[0]+change_i[idx], curr_point[1]+change_j[idx])\n",
    "        if edges[new_point] != 0: # if is ROI\n",
    "            border.append(new_point)\n",
    "            chain.append(direction)\n",
    "            curr_point = new_point\n",
    "            break\n",
    "    if count == 1000: break\n",
    "    count += 1"
   ]
  },
  {
   "cell_type": "code",
   "execution_count": 189,
   "metadata": {},
   "outputs": [
    {
     "name": "stdout",
     "output_type": "stream",
     "text": [
      "97\n",
      "[3, 3, 3, 4, 2, 3, 3, 3, 3, 3, 3, 3, 3, 5, 5, 1, 0, 7, 7, 7, 7, 7, 7, 6, 7, 7, 0, 7, 6, 6, 7, 7, 7, 6, 7, 7, 7, 0, 6, 6, 7, 7, 7, 6, 6, 5, 1, 0, 6, 5, 1, 0, 6, 6, 7, 6, 7, 6, 7, 7, 7, 6, 6, 6, 5, 1, 1, 2, 3, 2, 3, 3, 3, 2, 3, 2, 2, 3, 2, 4, 2, 3, 2, 3, 3, 3, 2, 3, 2, 4, 3, 3, 2, 3, 3, 3, 2, 2]\n"
     ]
    }
   ],
   "source": [
    "print(count)\n",
    "print(chain)"
   ]
  },
  {
   "cell_type": "code",
   "execution_count": null,
   "metadata": {
    "collapsed": true
   },
   "outputs": [],
   "source": []
  }
 ],
 "metadata": {
  "kernelspec": {
   "display_name": "Python 3",
   "language": "python",
   "name": "python3"
  },
  "language_info": {
   "codemirror_mode": {
    "name": "ipython",
    "version": 3
   },
   "file_extension": ".py",
   "mimetype": "text/x-python",
   "name": "python",
   "nbconvert_exporter": "python",
   "pygments_lexer": "ipython3",
   "version": "3.6.1"
  }
 },
 "nbformat": 4,
 "nbformat_minor": 2
}
