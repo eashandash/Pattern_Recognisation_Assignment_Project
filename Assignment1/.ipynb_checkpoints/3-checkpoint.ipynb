{
 "cells": [
  {
   "cell_type": "code",
   "execution_count": 1,
   "metadata": {},
   "outputs": [],
   "source": [
    "import cv2 as cv\n",
    "import numpy as np\n",
    "from matplotlib import pyplot as plt\n",
    "img = cv.imread('leaf.png',0)\n",
    "ret,thresh1 = cv.threshold(img,232,255,cv.THRESH_BINARY)"
   ]
  },
  {
   "cell_type": "code",
   "execution_count": 2,
   "metadata": {},
   "outputs": [],
   "source": [
    "%matplotlib inline"
   ]
  },
  {
   "cell_type": "code",
   "execution_count": 3,
   "metadata": {},
   "outputs": [
    {
     "data": {
      "text/plain": [
       "<matplotlib.image.AxesImage at 0x27037833c88>"
      ]
     },
     "execution_count": 3,
     "metadata": {},
     "output_type": "execute_result"
    },
    {
     "data": {
      "image/png": "[encoded data removed]",
      "text/plain": [
       "<matplotlib.figure.Figure at 0x270363a2748>"
      ]
     },
     "metadata": {},
     "output_type": "display_data"
    }
   ],
   "source": [
    "plt.imshow(thresh1,'gray')"
   ]
  },
  {
   "cell_type": "code",
   "execution_count": 4,
   "metadata": {},
   "outputs": [
    {
     "data": {
      "text/plain": [
       "(240, 320)"
      ]
     },
     "execution_count": 4,
     "metadata": {},
     "output_type": "execute_result"
    }
   ],
   "source": [
    "thresh1.shape"
   ]
  },
  {
   "cell_type": "code",
   "execution_count": 5,
   "metadata": {},
   "outputs": [
    {
     "data": {
      "image/png": "[encoded data removed]",
      "text/plain": [
       "<matplotlib.figure.Figure at 0x27037889b00>"
      ]
     },
     "metadata": {},
     "output_type": "display_data"
    }
   ],
   "source": [
    "import cv2\n",
    "import numpy as np\n",
    "from matplotlib import pyplot as plt\n",
    "\n",
    "img = cv2.imread('leaf.png',0)\n",
    "edges = cv2.Canny(thresh1,100,200)\n",
    "\n",
    "plt.subplot(121),plt.imshow(img,cmap = 'gray')\n",
    "plt.title('Original Image'), plt.xticks([]), plt.yticks([])\n",
    "plt.subplot(122),plt.imshow(edges,cmap = 'gray')\n",
    "plt.title('Edge Image'), plt.xticks([]), plt.yticks([])\n",
    "\n",
    "plt.show()"
   ]
  },
  {
   "cell_type": "code",
   "execution_count": 6,
   "metadata": {},
   "outputs": [
    {
     "name": "stdout",
     "output_type": "stream",
     "text": [
      "(41, 174) 255\n"
     ]
    }
   ],
   "source": [
    "## Discover the first point \n",
    "for i, row in enumerate(edges):\n",
    "    for j, value in enumerate(row):\n",
    "        if value == 255:\n",
    "            start_point = (i, j)\n",
    "            print(start_point, value)\n",
    "            break\n",
    "    else:\n",
    "        continue\n",
    "    break"
   ]
  },
  {
   "cell_type": "code",
   "execution_count": 7,
   "metadata": {},
   "outputs": [],
   "source": [
    "directions = [ 0,  1,  2,\n",
    "               7,      3,\n",
    "               6,  5,  4]\n",
    "dir2idx = dict(zip(directions, range(len(directions))))\n",
    "\n",
    "change_j =   [-1,  0,  1, # x or columns\n",
    "              -1,      1,\n",
    "              -1,  0,  1]\n",
    "\n",
    "change_i =   [-1, -1, -1, # y or rows\n",
    "               0,      0,\n",
    "               1,  1,  1]\n",
    "\n",
    "border = []\n",
    "chain = []\n",
    "curr_point = start_point\n",
    "for direction in directions:\n",
    "    idx = dir2idx[direction]\n",
    "    new_point = (start_point[0]+change_i[idx], start_point[1]+change_j[idx])\n",
    "    if edges[new_point] != 0: # if is ROI\n",
    "        border.append(new_point)\n",
    "        chain.append(direction)\n",
    "        curr_point = new_point\n",
    "        break\n",
    "\n",
    "count = 0\n",
    "while curr_point != start_point:\n",
    "    #figure direction to start search\n",
    "    b_direction = (direction + 5) % 8 \n",
    "    dirs_1 = range(b_direction, 8)\n",
    "    dirs_2 = range(0, b_direction)\n",
    "    dirs = []\n",
    "    dirs.extend(dirs_1)\n",
    "    dirs.extend(dirs_2)\n",
    "    for direction in dirs:\n",
    "        idx = dir2idx[direction]\n",
    "        new_point = (curr_point[0]+change_i[idx], curr_point[1]+change_j[idx])\n",
    "        if edges[new_point] != 0: # if is ROI\n",
    "            border.append(new_point)\n",
    "            chain.append(direction)\n",
    "            curr_point = new_point\n",
    "            break\n",
    "    if count == 1000: break\n",
    "    count += 1"
   ]
  },
  {
   "cell_type": "code",
   "execution_count": 8,
   "metadata": {},
   "outputs": [
    {
     "name": "stdout",
     "output_type": "stream",
     "text": [
      "97\n",
      "[3, 3, 3, 4, 2, 3, 3, 3, 3, 3, 3, 3, 3, 5, 5, 1, 0, 7, 7, 7, 7, 7, 7, 6, 7, 7, 0, 7, 6, 6, 7, 7, 7, 6, 7, 7, 7, 0, 6, 6, 7, 7, 7, 6, 6, 5, 1, 0, 6, 5, 1, 0, 6, 6, 7, 6, 7, 6, 7, 7, 7, 6, 6, 6, 5, 1, 1, 2, 3, 2, 3, 3, 3, 2, 3, 2, 2, 3, 2, 4, 2, 3, 2, 3, 3, 3, 2, 3, 2, 4, 3, 3, 2, 3, 3, 3, 2, 2]\n"
     ]
    }
   ],
   "source": [
    "print(count)\n",
    "print(chain)"
   ]
  },
  {
   "cell_type": "code",
   "execution_count": null,
   "metadata": {},
   "outputs": [],
   "source": []
  },
  {
   "cell_type": "code",
   "execution_count": null,
   "metadata": {},
   "outputs": [],
   "source": []
  },
  {
   "cell_type": "code",
   "execution_count": null,
   "metadata": {},
   "outputs": [],
   "source": [
    "#FEATURE VECTOR OF THE GIVEN IMAGE"
   ]
  },
  {
   "cell_type": "code",
   "execution_count": 2,
   "metadata": {},
   "outputs": [
    {
     "data": {
      "text/plain": [
       "(240, 320)"
      ]
     },
     "execution_count": 2,
     "metadata": {},
     "output_type": "execute_result"
    }
   ],
   "source": [
    "img.shape"
   ]
  },
  {
   "cell_type": "code",
   "execution_count": 3,
   "metadata": {},
   "outputs": [
    {
     "data": {
      "text/plain": [
       "(76800,)"
      ]
     },
     "execution_count": 3,
     "metadata": {},
     "output_type": "execute_result"
    }
   ],
   "source": [
    "raw = img.flatten()\n",
    "raw.shape"
   ]
  },
  {
   "cell_type": "code",
   "execution_count": 4,
   "metadata": {},
   "outputs": [
    {
     "data": {
      "text/plain": [
       "array([255, 255, 255, ..., 255, 255, 255], dtype=uint8)"
      ]
     },
     "execution_count": 4,
     "metadata": {},
     "output_type": "execute_result"
    }
   ],
   "source": [
    "raw"
   ]
  },
  {
   "cell_type": "code",
   "execution_count": 7,
   "metadata": {},
   "outputs": [],
   "source": [
    "mean = cv.mean(img)"
   ]
  },
  {
   "cell_type": "code",
   "execution_count": 8,
   "metadata": {},
   "outputs": [
    {
     "data": {
      "text/plain": [
       "(214.04833333333335, 0.0, 0.0, 0.0)"
      ]
     },
     "execution_count": 8,
     "metadata": {},
     "output_type": "execute_result"
    }
   ],
   "source": [
    "mean"
   ]
  },
  {
   "cell_type": "code",
   "execution_count": 9,
   "metadata": {},
   "outputs": [],
   "source": [
    "(mean, std) = cv.meanStdDev(img)"
   ]
  },
  {
   "cell_type": "code",
   "execution_count": 10,
   "metadata": {},
   "outputs": [
    {
     "data": {
      "text/plain": [
       "(array([[214.04833333]]), array([[58.2383926]]))"
      ]
     },
     "execution_count": 10,
     "metadata": {},
     "output_type": "execute_result"
    }
   ],
   "source": [
    "mean, std"
   ]
  },
  {
   "cell_type": "code",
   "execution_count": 11,
   "metadata": {},
   "outputs": [],
   "source": [
    "stat = np.concatenate([mean, std]).flatten()"
   ]
  },
  {
   "cell_type": "code",
   "execution_count": 12,
   "metadata": {},
   "outputs": [
    {
     "data": {
      "text/plain": [
       "array([214.04833333,  58.2383926 ])"
      ]
     },
     "execution_count": 12,
     "metadata": {},
     "output_type": "execute_result"
    }
   ],
   "source": [
    "stat"
   ]
  },
  {
   "cell_type": "code",
   "execution_count": null,
   "metadata": {},
   "outputs": [],
   "source": []
  },
  {
   "cell_type": "code",
   "execution_count": null,
   "metadata": {},
   "outputs": [],
   "source": []
  },
  {
   "cell_type": "code",
   "execution_count": 9,
   "metadata": {},
   "outputs": [],
   "source": [
    "#differential chain code\n",
    "\n",
    "#the image is converted to black and white (gray image) for simple storage and manipulation of the image \n",
    "#and the boundary is extracted to to get the chain code from the direction matrix.\n"
   ]
  },
  {
   "cell_type": "code",
   "execution_count": null,
   "metadata": {},
   "outputs": [],
   "source": []
  }
 ],
 "metadata": {
  "kernelspec": {
   "display_name": "Python 3",
   "language": "python",
   "name": "python3"
  },
  "language_info": {
   "codemirror_mode": {
    "name": "ipython",
    "version": 3
   },
   "file_extension": ".py",
   "mimetype": "text/x-python",
   "name": "python",
   "nbconvert_exporter": "python",
   "pygments_lexer": "ipython3",
   "version": "3.6.4"
  }
 },
 "nbformat": 4,
 "nbformat_minor": 2
}
